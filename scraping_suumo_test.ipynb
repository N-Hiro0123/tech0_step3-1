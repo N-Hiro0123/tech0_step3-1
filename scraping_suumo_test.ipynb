{
 "cells": [
  {
   "cell_type": "markdown",
   "metadata": {},
   "source": [
    "# 最低限必要な取得項目\n",
    "- 物件名\n",
    "- 住所\n",
    "- 間取り\n",
    "- 家賃\n",
    "- 階数"
   ]
  },
  {
   "cell_type": "code",
   "execution_count": 2,
   "metadata": {},
   "outputs": [],
   "source": [
    "import requests\n",
    "from bs4 import BeautifulSoup"
   ]
  },
  {
   "cell_type": "code",
   "execution_count": 3,
   "metadata": {},
   "outputs": [
    {
     "data": {
      "text/plain": [
       "50"
      ]
     },
     "execution_count": 3,
     "metadata": {},
     "output_type": "execute_result"
    }
   ],
   "source": [
    "load_url = \"https://suumo.jp/jj/chintai/ichiran/FR301FC001/?ar=040&bs=040&ta=20&sc=20214&sngz=&po1=25&pc=50\"\n",
    "\n",
    "res = requests.get(load_url)\n",
    "res.encoding = \"utf-8\"\n",
    "soup = BeautifulSoup(res.text, \"html.parser\")\n",
    "\n",
    "# 一つの物件の塊をとる\n",
    "\n",
    "cassetitems = soup.find_all(\"div\", class_=\"cassetteitem\")\n",
    "# rent = soup.find_all(\"span\", class_=\"cassetteitem_other-emphasis ui-text--bold\")\n",
    "\n",
    "len(cassetitems)"
   ]
  },
  {
   "cell_type": "code",
   "execution_count": 4,
   "metadata": {},
   "outputs": [],
   "source": [
    "cassetitem = cassetitems[0]"
   ]
  },
  {
   "cell_type": "code",
   "execution_count": 5,
   "metadata": {},
   "outputs": [
    {
     "data": {
      "text/plain": [
       "'長野県茅野市ちの'"
      ]
     },
     "execution_count": 5,
     "metadata": {},
     "output_type": "execute_result"
    }
   ],
   "source": [
    "address = cassetitem.find(\"li\", class_=\"cassetteitem_detail-col1\")\n",
    "address.text"
   ]
  },
  {
   "cell_type": "code",
   "execution_count": 6,
   "metadata": {},
   "outputs": [],
   "source": [
    "nearest_station = cassetitem.find_all(\"div\", class_=\"cassetteitem_detail-text\")\n",
    "nearest_station1 = nearest_station[0].text\n",
    "nearest_station2 = nearest_station[1].text\n",
    "nearest_station3 = nearest_station[2].text"
   ]
  },
  {
   "cell_type": "code",
   "execution_count": 7,
   "metadata": {},
   "outputs": [
    {
     "data": {
      "text/plain": [
       "True"
      ]
     },
     "execution_count": 7,
     "metadata": {},
     "output_type": "execute_result"
    }
   ],
   "source": [
    "nearest_station3 == \"\""
   ]
  },
  {
   "cell_type": "code",
   "execution_count": 8,
   "metadata": {},
   "outputs": [
    {
     "name": "stdout",
     "output_type": "stream",
     "text": [
      "築8年\n",
      "2階建\n"
     ]
    }
   ],
   "source": [
    "_col3 = cassetitem.find_all(\"li\", class_=\"cassetteitem_detail-col3\")\n",
    "\n",
    "building_age = _col3[0].find_all(\"div\")[0].text\n",
    "number_of_floors = _col3[0].find_all(\"div\")[1].text\n",
    "\n",
    "print(building_age)\n",
    "print(number_of_floors)"
   ]
  },
  {
   "cell_type": "code",
   "execution_count": 9,
   "metadata": {},
   "outputs": [],
   "source": [
    "tr_tags = cassetitem.find_all(\"tr\", class_= \"js-cassette_link\")\n"
   ]
  },
  {
   "cell_type": "code",
   "execution_count": 10,
   "metadata": {},
   "outputs": [],
   "source": [
    "tr_tag = tr_tags[0]\n",
    "\n",
    "tds = tr_tag.find_all(\"td\")"
   ]
  },
  {
   "cell_type": "code",
   "execution_count": 88,
   "metadata": {},
   "outputs": [
    {
     "data": {
      "text/plain": [
       "<td>\n",
       "\t\t\t\t\t\t\t\t\t\t\t1階</td>"
      ]
     },
     "execution_count": 88,
     "metadata": {},
     "output_type": "execute_result"
    }
   ],
   "source": []
  },
  {
   "cell_type": "code",
   "execution_count": 11,
   "metadata": {},
   "outputs": [
    {
     "data": {
      "text/plain": [
       "'1階'"
      ]
     },
     "execution_count": 11,
     "metadata": {},
     "output_type": "execute_result"
    }
   ],
   "source": [
    "tr_tag = tr_tags[0]\n",
    "\n",
    "tds = tr_tag.find_all(\"td\")\n",
    "tds[2].text.split('\\n')[-1].replace('\\t','')"
   ]
  },
  {
   "cell_type": "markdown",
   "metadata": {},
   "source": []
  },
  {
   "cell_type": "code",
   "execution_count": 12,
   "metadata": {},
   "outputs": [
    {
     "data": {
      "text/plain": [
       "'6.3万円'"
      ]
     },
     "execution_count": 12,
     "metadata": {},
     "output_type": "execute_result"
    }
   ],
   "source": [
    "rent = tds[3].find(\"span\", class_=\"cassetteitem_other-emphasis ui-text--bold\").text\n",
    "rent\n"
   ]
  },
  {
   "cell_type": "code",
   "execution_count": 13,
   "metadata": {},
   "outputs": [
    {
     "data": {
      "text/plain": [
       "'3300円'"
      ]
     },
     "execution_count": 13,
     "metadata": {},
     "output_type": "execute_result"
    }
   ],
   "source": [
    "maintenance_fee = tds[3].find(\"span\", class_=\"cassetteitem_price cassetteitem_price--administration\").text\n",
    "maintenance_fee"
   ]
  },
  {
   "cell_type": "code",
   "execution_count": 14,
   "metadata": {},
   "outputs": [
    {
     "name": "stdout",
     "output_type": "stream",
     "text": [
      "-\n",
      "9.45万円\n"
     ]
    }
   ],
   "source": [
    "deposit = tds[4].find(\"span\", class_=\"cassetteitem_price cassetteitem_price--deposit\").text\n",
    "gratuity = tds[4].find(\"span\", class_=\"cassetteitem_price cassetteitem_price--gratuity\").text\n",
    "print(deposit)\n",
    "print(gratuity)"
   ]
  },
  {
   "cell_type": "code",
   "execution_count": 15,
   "metadata": {},
   "outputs": [
    {
     "name": "stdout",
     "output_type": "stream",
     "text": [
      "1LDK\n",
      "45.81m2\n"
     ]
    }
   ],
   "source": [
    "madori = tds[5].find(\"span\", class_=\"cassetteitem_madori\").text\n",
    "menseki = tds[5].find(\"span\", class_=\"cassetteitem_menseki\").text\n",
    "print(madori)\n",
    "print(menseki)\n"
   ]
  },
  {
   "cell_type": "code",
   "execution_count": 18,
   "metadata": {},
   "outputs": [
    {
     "data": {
      "text/plain": [
       "'https://suumo.jp/chintai/jnc_000086182826/?bc=100356963653'"
      ]
     },
     "execution_count": 18,
     "metadata": {},
     "output_type": "execute_result"
    }
   ],
   "source": [
    "url = tds[8].find(\"a\").get(\"href\")\n",
    "url = \"https://suumo.jp\" + url\n",
    "url"
   ]
  },
  {
   "cell_type": "code",
   "execution_count": null,
   "metadata": {},
   "outputs": [],
   "source": []
  }
 ],
 "metadata": {
  "kernelspec": {
   "display_name": "env",
   "language": "python",
   "name": "python3"
  },
  "language_info": {
   "codemirror_mode": {
    "name": "ipython",
    "version": 3
   },
   "file_extension": ".py",
   "mimetype": "text/x-python",
   "name": "python",
   "nbconvert_exporter": "python",
   "pygments_lexer": "ipython3",
   "version": "3.11.4"
  }
 },
 "nbformat": 4,
 "nbformat_minor": 2
}
